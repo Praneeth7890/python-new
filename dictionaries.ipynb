{
  "cells": [
    {
      "cell_type": "markdown",
      "metadata": {
        "id": "view-in-github",
        "colab_type": "text"
      },
      "source": [
        "<a href=\"https://colab.research.google.com/github/Praneeth7890/python-new/blob/module-02/dictionaries.ipynb\" target=\"_parent\"><img src=\"https://colab.research.google.com/assets/colab-badge.svg\" alt=\"Open In Colab\"/></a>"
      ]
    },
    {
      "cell_type": "code",
      "execution_count": null,
      "metadata": {
        "colab": {
          "base_uri": "https://localhost:8080/"
        },
        "id": "EPtwZeJoSGin",
        "outputId": "e3146401-4503-480d-bd49-6e67a6081198"
      },
      "outputs": [
        {
          "name": "stdout",
          "output_type": "stream",
          "text": [
            "{'name': 'praneeth', 'friend': 'rahul', 'cllg': 'gitam', 'realation': 'friendship'}\n"
          ]
        }
      ],
      "source": [
        "#print a dictionary\n",
        "x={\n",
        "    \"name\":\"praneeth\",\n",
        "    \"friend\":\"rahul\",\n",
        "    \"cllg\":\"gitam\",\n",
        "    \"realation\":\"friendship\"\n",
        "   }\n",
        "print(x)"
      ]
    },
    {
      "cell_type": "code",
      "execution_count": null,
      "metadata": {
        "colab": {
          "base_uri": "https://localhost:8080/"
        },
        "id": "RK-vZYvCUVUE",
        "outputId": "7a199f30-f4f8-4d7e-cd71-d56da1fa20f1"
      },
      "outputs": [
        {
          "output_type": "stream",
          "name": "stdout",
          "text": [
            "royalenfield\n"
          ]
        }
      ],
      "source": [
        "#Print the \"brand\" value of the dictionary\n",
        "x={\n",
        "    \"brand\":\"royalenfield\",\n",
        "    \"model\":\"continental gt 650\",\n",
        "    \"since\":\"2019\"\n",
        "  }\n",
        "print(x[\"brand\"])"
      ]
    },
    {
      "cell_type": "code",
      "source": [
        "#Duplicates Not Allowed\n",
        "x={\n",
        "    \"brand\":\"royalenfield\",\n",
        "    \"model\":\"continental gt 650\",\n",
        "    \"since\":\"2019\",\n",
        "    \"since\":\"2022\"\n",
        "  }\n",
        "print(x)"
      ],
      "metadata": {
        "colab": {
          "base_uri": "https://localhost:8080/"
        },
        "id": "P9t-JcV5Vz7m",
        "outputId": "c4454f97-adf8-463f-8036-694b72d5ef0d"
      },
      "execution_count": null,
      "outputs": [
        {
          "output_type": "stream",
          "name": "stdout",
          "text": [
            "{'brand': 'royalenfield', 'model': 'continental gt 650', 'since': '2022'}\n"
          ]
        }
      ]
    },
    {
      "cell_type": "code",
      "source": [
        "#type\n",
        "x={\n",
        "    \"brand\":\"royalenfield\",\n",
        "    \"model\":\"continental gt 650\",\n",
        "    \"since\":\"2019\",\n",
        "    \"since\":\"2022\"\n",
        "  }\n",
        "print(len(x))"
      ],
      "metadata": {
        "colab": {
          "base_uri": "https://localhost:8080/"
        },
        "id": "sfsVYYboWXHM",
        "outputId": "d8bae18a-98d1-4574-e496-2e85f108b6bb"
      },
      "execution_count": null,
      "outputs": [
        {
          "output_type": "stream",
          "name": "stdout",
          "text": [
            "3\n"
          ]
        }
      ]
    },
    {
      "cell_type": "code",
      "source": [
        "#data type\n",
        "x={\n",
        "    \"brand\":\"royalenfield\",\n",
        "    \"model\":\"continental gt 650\",\n",
        "    \"since\":\"2019\",\n",
        "    \"since\":\"2022\"\n",
        "  }\n",
        "print(type(x))"
      ],
      "metadata": {
        "colab": {
          "base_uri": "https://localhost:8080/"
        },
        "id": "fJ_xkEfsW4bk",
        "outputId": "f05dbd42-d43e-4143-e847-0cc8fd0556e0"
      },
      "execution_count": null,
      "outputs": [
        {
          "output_type": "stream",
          "name": "stdout",
          "text": [
            "<class 'dict'>\n"
          ]
        }
      ]
    },
    {
      "cell_type": "code",
      "source": [
        "#Accessing Items\n",
        "x={\n",
        "    \"brand\":\"royalenfield\",\n",
        "    \"model\":\"continental gt 650\",\n",
        "    \"since\":\"2019\",\n",
        "    \"since\":\"2022\"\n",
        "  }\n",
        "y=x[\"model\"]\n",
        "print(y)"
      ],
      "metadata": {
        "colab": {
          "base_uri": "https://localhost:8080/"
        },
        "id": "rjz2vgeGXAVU",
        "outputId": "7aef9039-81be-4269-def2-d187f28b8655"
      },
      "execution_count": null,
      "outputs": [
        {
          "output_type": "stream",
          "name": "stdout",
          "text": [
            "continental gt 650\n"
          ]
        }
      ]
    },
    {
      "cell_type": "code",
      "source": [
        "#get \n",
        "x={\n",
        "    \"brand\":\"royalenfield\",\n",
        "    \"model\":\"continental gt 650\",\n",
        "    \"since\":\"2019\",\n",
        "    \"since\":\"2022\"\n",
        "  }\n",
        "y=x.get(\"model\")\n",
        "print(y)"
      ],
      "metadata": {
        "colab": {
          "base_uri": "https://localhost:8080/"
        },
        "id": "IYnmuZqbXxxF",
        "outputId": "a1be977f-592e-49da-be66-cc3e916f258f"
      },
      "execution_count": null,
      "outputs": [
        {
          "output_type": "stream",
          "name": "stdout",
          "text": [
            "continental gt 650\n"
          ]
        }
      ]
    },
    {
      "cell_type": "code",
      "source": [
        "#printing keys\n",
        "x={\n",
        "    \"brand\":\"royalenfield\",\n",
        "    \"model\":\"continental gt 650\",\n",
        "    \"since\":\"2019\",\n",
        "    \"since\":\"2022\"\n",
        "  }\n",
        "y=x.keys()\n",
        "print(y)"
      ],
      "metadata": {
        "colab": {
          "base_uri": "https://localhost:8080/"
        },
        "id": "1_1uZJ1CYI2k",
        "outputId": "7a9e44c0-3626-4e30-b86d-801c6e503cf4"
      },
      "execution_count": null,
      "outputs": [
        {
          "output_type": "stream",
          "name": "stdout",
          "text": [
            "dict_keys(['brand', 'model', 'since'])\n"
          ]
        }
      ]
    },
    {
      "cell_type": "code",
      "source": [
        "#adding a new items\n",
        "x={\n",
        "    \"brand\":\"royalenfield\",\n",
        "    \"model\":\"continental gt 650\",\n",
        "    \"since\":\"2019\",\n",
        "    \"since\":\"2022\"\n",
        "  }\n",
        "y=x.keys()\n",
        "print(y)\n",
        "x[\"colour\"]=\"silver\"\n",
        "print(y)"
      ],
      "metadata": {
        "colab": {
          "base_uri": "https://localhost:8080/"
        },
        "id": "RXLfABsxYsI0",
        "outputId": "10eb227f-59fa-40d0-ef42-abc94e04b262"
      },
      "execution_count": null,
      "outputs": [
        {
          "output_type": "stream",
          "name": "stdout",
          "text": [
            "dict_keys(['brand', 'model', 'since'])\n",
            "dict_keys(['brand', 'model', 'since', 'colour'])\n"
          ]
        }
      ]
    },
    {
      "cell_type": "code",
      "source": [
        "#printing values\n",
        "x={\n",
        "    \"brand\":\"royalenfield\",\n",
        "    \"model\":\"continental gt 650\",\n",
        "    \"since\":\"2019\",\n",
        "    \"since\":\"2022\"\n",
        "  }\n",
        "y=x.values()\n",
        "print(y)"
      ],
      "metadata": {
        "colab": {
          "base_uri": "https://localhost:8080/"
        },
        "id": "tiojyisEZcUV",
        "outputId": "d66317d9-6e50-4fe3-e6e4-ebe62191b815"
      },
      "execution_count": null,
      "outputs": [
        {
          "output_type": "stream",
          "name": "stdout",
          "text": [
            "dict_values(['royalenfield', 'continental gt 650', '2022'])\n"
          ]
        }
      ]
    },
    {
      "cell_type": "code",
      "source": [
        "#adding a new items\n",
        "x={\n",
        "    \"brand\":\"royalenfield\",\n",
        "    \"model\":\"continental gt 650\",\n",
        "    \"since\":\"2019\",\n",
        "    \"since\":\"2022\"\n",
        "  }\n",
        "y=x.values()\n",
        "print(y)\n",
        "x[\"colour\"]=\"silver\"\n",
        "print(y)"
      ],
      "metadata": {
        "colab": {
          "base_uri": "https://localhost:8080/"
        },
        "id": "heBEjsGsaDZU",
        "outputId": "7358af0a-e6d5-490e-fe06-3bf89e199410"
      },
      "execution_count": null,
      "outputs": [
        {
          "output_type": "stream",
          "name": "stdout",
          "text": [
            "dict_values(['royalenfield', 'continental gt 650', '2022'])\n",
            "dict_values(['royalenfield', 'continental gt 650', '2022', 'silver'])\n"
          ]
        }
      ]
    },
    {
      "cell_type": "code",
      "source": [
        "#printing items\n",
        "x={\n",
        "    \"brand\":\"royalenfield\",\n",
        "    \"model\":\"continental gt 650\",\n",
        "    \"since\":\"2019\",\n",
        "    \"since\":\"2022\"\n",
        "  }\n",
        "y=x.items()\n",
        "print(y)"
      ],
      "metadata": {
        "colab": {
          "base_uri": "https://localhost:8080/"
        },
        "id": "6SK42xoFa8rb",
        "outputId": "759ae16f-c0ea-443c-f39e-6fce2836a99c"
      },
      "execution_count": null,
      "outputs": [
        {
          "output_type": "stream",
          "name": "stdout",
          "text": [
            "dict_items([('brand', 'royalenfield'), ('model', 'continental gt 650'), ('since', '2022')])\n"
          ]
        }
      ]
    },
    {
      "cell_type": "code",
      "source": [
        "x={\n",
        "    \"brand\":\"royalenfield\",\n",
        "    \"model\":\"continental gt 650\",\n",
        "    \"since\":\"2019\",\n",
        "    \"since\":\"2022\"\n",
        "  }\n",
        "y=x.items()\n",
        "print(y)\n",
        "x[\"colour\"]=\"silver\"\n",
        "print(y)"
      ],
      "metadata": {
        "colab": {
          "base_uri": "https://localhost:8080/"
        },
        "id": "e4FFeWW9bRcL",
        "outputId": "a29ecb54-d463-41aa-e2d0-0fd6c0b6b637"
      },
      "execution_count": null,
      "outputs": [
        {
          "output_type": "stream",
          "name": "stdout",
          "text": [
            "dict_items([('brand', 'royalenfield'), ('model', 'continental gt 650'), ('since', '2022')])\n",
            "dict_items([('brand', 'royalenfield'), ('model', 'continental gt 650'), ('since', '2022'), ('colour', 'silver')])\n"
          ]
        }
      ]
    },
    {
      "cell_type": "code",
      "source": [
        "x = {\n",
        "  \"brand\": \"Ford\",\n",
        "  \"model\": \"Mustang\",\n",
        "  \"year\": 1964\n",
        "}\n",
        "if \"model\" in x:\n",
        "  print(\"Yes, 'model' is one of the keys in the thisdict dictionary\")\n"
      ],
      "metadata": {
        "colab": {
          "base_uri": "https://localhost:8080/"
        },
        "id": "ZJGsaBgjbZaE",
        "outputId": "96b7da64-2eb4-4542-be88-6a5cbe8ea071"
      },
      "execution_count": null,
      "outputs": [
        {
          "output_type": "stream",
          "name": "stdout",
          "text": [
            "Yes, 'model' is one of the keys in the thisdict dictionary\n"
          ]
        }
      ]
    },
    {
      "cell_type": "code",
      "source": [
        "#change the year\n",
        "x={\n",
        "    \"brand\":\"royalenfield\",\n",
        "    \"model\":\"continental gt 650\",\n",
        "    \"since\":\"2019\"\n",
        "  }\n",
        "x[\"since\"]=\"2021\"\n",
        "print(x)"
      ],
      "metadata": {
        "colab": {
          "base_uri": "https://localhost:8080/"
        },
        "id": "lvSuVFK8boTF",
        "outputId": "7a04630e-4911-4909-a701-4d536b916888"
      },
      "execution_count": null,
      "outputs": [
        {
          "output_type": "stream",
          "name": "stdout",
          "text": [
            "{'brand': 'royalenfield', 'model': 'continental gt 650', 'since': '2021'}\n"
          ]
        }
      ]
    },
    {
      "cell_type": "code",
      "source": [
        "x={\n",
        "    \"brand\":\"royalenfield\",\n",
        "    \"model\":\"continental gt 650\",\n",
        "    \"since\":\"2019\"\n",
        "  }\n",
        "x.update({\"since\":\"2021\"})\n",
        "\n",
        "print(x)"
      ],
      "metadata": {
        "colab": {
          "base_uri": "https://localhost:8080/"
        },
        "id": "jHEgJToVclIL",
        "outputId": "88f6c655-9c53-47a6-f2e7-deab7e321185"
      },
      "execution_count": null,
      "outputs": [
        {
          "output_type": "stream",
          "name": "stdout",
          "text": [
            "{'brand': 'royalenfield', 'model': 'continental gt 650', 'since': '2021'}\n"
          ]
        }
      ]
    },
    {
      "cell_type": "code",
      "source": [
        "x={\n",
        "    \"brand\":\"royalenfield\",\n",
        "    \"model\":\"continental gt 650\",\n",
        "    \"since\":\"2019\"\n",
        "  }\n",
        "x[\"color\"] = \"red\"\n",
        "print(x)\n"
      ],
      "metadata": {
        "colab": {
          "base_uri": "https://localhost:8080/"
        },
        "id": "u3y15r8edmhr",
        "outputId": "bfd5786e-6a55-4dbf-fd62-a6cc130a035a"
      },
      "execution_count": null,
      "outputs": [
        {
          "output_type": "stream",
          "name": "stdout",
          "text": [
            "{'brand': 'royalenfield', 'model': 'continental gt 650', 'since': '2019', 'color': 'red'}\n"
          ]
        }
      ]
    },
    {
      "cell_type": "code",
      "source": [
        "x={\n",
        "    \"brand\":\"royalenfield\",\n",
        "    \"model\":\"continental gt 650\",\n",
        "    \"since\":\"2019\"\n",
        "  }\n",
        "x.update({\"color\": \"red\"})\n",
        "print(x)\n"
      ],
      "metadata": {
        "colab": {
          "base_uri": "https://localhost:8080/"
        },
        "id": "gZ63W1I0eg20",
        "outputId": "711da162-2616-4583-8674-e3511e6878bf"
      },
      "execution_count": null,
      "outputs": [
        {
          "output_type": "stream",
          "name": "stdout",
          "text": [
            "{'brand': 'royalenfield', 'model': 'continental gt 650', 'since': '2019', 'color': 'red'}\n"
          ]
        }
      ]
    },
    {
      "cell_type": "code",
      "source": [
        "x={\n",
        "    \"brand\":\"royalenfield\",\n",
        "    \"model\":\"continental gt 650\",\n",
        "    \"since\":\"2019\"\n",
        "  }\n",
        "x.pop(\"model\")\n",
        "print(x)\n"
      ],
      "metadata": {
        "colab": {
          "base_uri": "https://localhost:8080/"
        },
        "id": "ypt_SFh8e5vz",
        "outputId": "89f6634c-ebe0-4a21-ee4d-a84ef42085b3"
      },
      "execution_count": null,
      "outputs": [
        {
          "output_type": "stream",
          "name": "stdout",
          "text": [
            "{'brand': 'royalenfield', 'since': '2019'}\n"
          ]
        }
      ]
    },
    {
      "cell_type": "code",
      "source": [
        "x={\n",
        "    \"brand\":\"royalenfield\",\n",
        "    \"model\":\"continental gt 650\",\n",
        "    \"since\":\"2019\"\n",
        "  }\n",
        "x.clear()\n",
        "print(x)\n"
      ],
      "metadata": {
        "colab": {
          "base_uri": "https://localhost:8080/"
        },
        "id": "ubvoYRk-fVkT",
        "outputId": "5ed42dc0-fd83-4550-813e-688d71e4dd3b"
      },
      "execution_count": null,
      "outputs": [
        {
          "output_type": "stream",
          "name": "stdout",
          "text": [
            "{}\n"
          ]
        }
      ]
    },
    {
      "cell_type": "code",
      "source": [
        ""
      ],
      "metadata": {
        "id": "8FESKdiNfiY0"
      },
      "execution_count": null,
      "outputs": []
    }
  ],
  "metadata": {
    "colab": {
      "name": "dictionaries.ipynb",
      "provenance": [],
      "collapsed_sections": [],
      "authorship_tag": "ABX9TyM4gG6Drj4h7wvDImOuWC1c",
      "include_colab_link": true
    },
    "kernelspec": {
      "display_name": "Python 3",
      "name": "python3"
    },
    "language_info": {
      "name": "python"
    }
  },
  "nbformat": 4,
  "nbformat_minor": 0
}