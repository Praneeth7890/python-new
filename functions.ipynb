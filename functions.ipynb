{
  "nbformat": 4,
  "nbformat_minor": 0,
  "metadata": {
    "colab": {
      "name": "functions.ipynb",
      "provenance": [],
      "collapsed_sections": [],
      "authorship_tag": "ABX9TyPymy3kdjMDJKSBzkEvhYYS",
      "include_colab_link": true
    },
    "kernelspec": {
      "name": "python3",
      "display_name": "Python 3"
    },
    "language_info": {
      "name": "python"
    }
  },
  "cells": [
    {
      "cell_type": "markdown",
      "metadata": {
        "id": "view-in-github",
        "colab_type": "text"
      },
      "source": [
        "<a href=\"https://colab.research.google.com/github/Praneeth7890/python-new/blob/module-02/functions.ipynb\" target=\"_parent\"><img src=\"https://colab.research.google.com/assets/colab-badge.svg\" alt=\"Open In Colab\"/></a>"
      ]
    },
    {
      "cell_type": "code",
      "source": [
        "#Calling a Function\n",
        "def x():\n",
        "  print(\"praneeth chowdary\")\n",
        "  \n",
        "x()"
      ],
      "metadata": {
        "colab": {
          "base_uri": "https://localhost:8080/"
        },
        "id": "vT3jok6gO0B-",
        "outputId": "e22ac253-7625-4721-c15b-0c78474f6b4d"
      },
      "execution_count": null,
      "outputs": [
        {
          "output_type": "stream",
          "name": "stdout",
          "text": [
            "praneeth chowdary\n"
          ]
        }
      ]
    },
    {
      "cell_type": "code",
      "execution_count": null,
      "metadata": {
        "colab": {
          "base_uri": "https://localhost:8080/"
        },
        "id": "Cr5lMD_VM3Cq",
        "outputId": "721d2272-76f0-4b38-a966-0415fadf6957"
      },
      "outputs": [
        {
          "output_type": "stream",
          "name": "stdout",
          "text": [
            "praneeth gitam\n",
            "yaswanth gitam\n",
            "sai krishna gitam\n"
          ]
        }
      ],
      "source": [
        "#Arguments\n",
        "def x(fname):\n",
        "  print(fname+\"gitam\")\n",
        "  \n",
        "x(\"praneeth \")\n",
        "x(\"yaswanth \")\n",
        "x(\"sai krishna \")"
      ]
    },
    {
      "cell_type": "code",
      "source": [
        "#This function expects 2 arguments, and gets 2 arguments\n",
        "def x(fname,lname):\n",
        "  print(fname+\" \"+lname)\n",
        "  \n",
        "x(\"praneeth\",\"chowdary\")"
      ],
      "metadata": {
        "colab": {
          "base_uri": "https://localhost:8080/"
        },
        "id": "pBRvfz_XOzBo",
        "outputId": "94c4f6d8-1440-4e71-9c76-4b12908174aa"
      },
      "execution_count": null,
      "outputs": [
        {
          "output_type": "stream",
          "name": "stdout",
          "text": [
            "praneeth chowdary\n"
          ]
        }
      ]
    },
    {
      "cell_type": "code",
      "source": [
        "#add a *,If the number of arguments is unknown\n",
        "def x(*students):\n",
        "  print(\"the topper in the class is \"+students[2])\n",
        "  \n",
        "x(\"rahul\",\"praneeth\",\"saikrishna\")"
      ],
      "metadata": {
        "colab": {
          "base_uri": "https://localhost:8080/"
        },
        "id": "fGdaiTwJOWJe",
        "outputId": "1d0406de-2793-4210-d64c-44e68b8ec787"
      },
      "execution_count": null,
      "outputs": [
        {
          "output_type": "stream",
          "name": "stdout",
          "text": [
            "the topper in the class is saikrishna\n"
          ]
        }
      ]
    },
    {
      "cell_type": "code",
      "source": [
        "#way the order of the arguments does not matter\n",
        "def x(stu1,stu2,stu3):\n",
        "  print(\"Waste fellow in the class is \"+stu2)\n",
        "  \n",
        "x(stu1=\"praneeth\",stu2=\"sai krishna\",stu3=\"seshu\")"
      ],
      "metadata": {
        "colab": {
          "base_uri": "https://localhost:8080/"
        },
        "id": "rrSp03wtVY9_",
        "outputId": "31a3ba6c-5e81-488f-aae9-62089b925f4d"
      },
      "execution_count": null,
      "outputs": [
        {
          "output_type": "stream",
          "name": "stdout",
          "text": [
            "Waste fellow in the class is sai krishna\n"
          ]
        }
      ]
    },
    {
      "cell_type": "code",
      "source": [
        "#Arbitrary Keyword Arguments, **kwargs\n",
        "def x(**student):\n",
        "  print(\"the topper in the class is \" +  student[\"lname\"])\n",
        "x(fname= \"praneeth\",lname= \"sai krishna\")"
      ],
      "metadata": {
        "colab": {
          "base_uri": "https://localhost:8080/"
        },
        "id": "HGAEvcdVWlTt",
        "outputId": "44769a9d-a025-4800-bb19-579926a73a14"
      },
      "execution_count": null,
      "outputs": [
        {
          "output_type": "stream",
          "name": "stdout",
          "text": [
            "the topper in the class is sai krishna\n"
          ]
        }
      ]
    },
    {
      "cell_type": "code",
      "source": [
        "#Default Parameter Value\n",
        "def x(state=\"Andhra pradesh\"):\n",
        "  print(\"I am from \"+state)\n",
        "  \n",
        "x(\"telangana\")\n",
        "x(\"kerala\")\n",
        "x()\n",
        "x(\"tamilnadu\")"
      ],
      "metadata": {
        "colab": {
          "base_uri": "https://localhost:8080/"
        },
        "id": "5AMaE-NcZLFf",
        "outputId": "84a8fe28-374e-4ad4-d5c7-35647c64f6f0"
      },
      "execution_count": null,
      "outputs": [
        {
          "output_type": "stream",
          "name": "stdout",
          "text": [
            "I am from telangana\n",
            "I am from kerala\n",
            "I am from Andhra pradesh\n",
            "I am from tamilnadu\n"
          ]
        }
      ]
    },
    {
      "cell_type": "code",
      "source": [
        "#Passing a List as an Argument\n",
        "def x(drinks):\n",
        "  for x in drinks:\n",
        "    print(x)\n",
        "\n",
        "drinks=(\"magic moments\",\"mansionhouse\",\"absoulte\")\n",
        "x(drinks)\n"
      ],
      "metadata": {
        "colab": {
          "base_uri": "https://localhost:8080/"
        },
        "id": "Ctft5CQ9atSv",
        "outputId": "4acffb4e-a65c-4642-9fa0-40fda51facf7"
      },
      "execution_count": null,
      "outputs": [
        {
          "output_type": "stream",
          "name": "stdout",
          "text": [
            "magic moments\n",
            "mansionhouse\n",
            "absoulte\n"
          ]
        }
      ]
    },
    {
      "cell_type": "code",
      "source": [
        "#Return Values\n",
        "def x(x):\n",
        "  return 6*x\n",
        "  \n",
        "print(x(4))\n",
        "print(x(7))\n",
        "print(x(4))\n",
        "print(x(8))\n",
        "print(x(2))\n"
      ],
      "metadata": {
        "colab": {
          "base_uri": "https://localhost:8080/"
        },
        "id": "MIZg0H-IcRQ-",
        "outputId": "15f52be1-70ee-4f2b-ca86-72216b0f0aeb"
      },
      "execution_count": null,
      "outputs": [
        {
          "output_type": "stream",
          "name": "stdout",
          "text": [
            "24\n",
            "42\n",
            "24\n",
            "48\n",
            "12\n"
          ]
        }
      ]
    },
    {
      "cell_type": "code",
      "source": [
        "#The pass Statement\n",
        "def x():\n",
        "  pass\n"
      ],
      "metadata": {
        "id": "F5lld8kcdRhd"
      },
      "execution_count": null,
      "outputs": []
    },
    {
      "cell_type": "code",
      "source": [
        "age=20\n",
        "\n",
        "if age>=18:\n",
        "  status=\"Eligible\"\n",
        "else:\n",
        "  status=\"not eligible\"\n",
        "print(\"you are \",status,\"for vote.\")"
      ],
      "metadata": {
        "id": "1nrqU4qse4hN",
        "colab": {
          "base_uri": "https://localhost:8080/"
        },
        "outputId": "4b991093-f456-4cd4-a807-c29db21a4e79"
      },
      "execution_count": null,
      "outputs": [
        {
          "output_type": "stream",
          "name": "stdout",
          "text": [
            "you are  Eligible for vote.\n"
          ]
        }
      ]
    },
    {
      "cell_type": "code",
      "source": [
        "age=int(input(\"enter the age\"))\n",
        "if age>=18:\n",
        "  status=\"Eligible\"\n",
        "else:\n",
        "  status=\"not eligible\"\n",
        "print(\"you are \",status,\"for vote.\")"
      ],
      "metadata": {
        "colab": {
          "base_uri": "https://localhost:8080/"
        },
        "id": "tYZK_2zUfVRQ",
        "outputId": "95627d2a-9873-4be9-f88e-422fb0a6bc44"
      },
      "execution_count": null,
      "outputs": [
        {
          "output_type": "stream",
          "name": "stdout",
          "text": [
            "enter the age18\n",
            "you are  Eligible for vote.\n"
          ]
        }
      ]
    },
    {
      "cell_type": "code",
      "source": [
        "#Recursion\n",
        "def tri_recursion(k):\n",
        "  if(k > 0):\n",
        "    result = k + tri_recursion(k-1)\n",
        "    print(result)\n",
        "  else:\n",
        "    result = 0\n",
        "  return result\n",
        "\n",
        "print(\"\\n\\nRecursion Example Results\")\n",
        "tri_recursion(6)\n"
      ],
      "metadata": {
        "colab": {
          "base_uri": "https://localhost:8080/"
        },
        "id": "HPqfzL5Hfs1X",
        "outputId": "b54c6688-041a-438d-dd05-67423ea64b74"
      },
      "execution_count": null,
      "outputs": [
        {
          "output_type": "stream",
          "name": "stdout",
          "text": [
            "\n",
            "\n",
            "Recursion Example Results\n",
            "1\n",
            "3\n",
            "6\n",
            "10\n",
            "15\n",
            "21\n"
          ]
        },
        {
          "output_type": "execute_result",
          "data": {
            "text/plain": [
              "21"
            ]
          },
          "metadata": {},
          "execution_count": 4
        }
      ]
    },
    {
      "cell_type": "code",
      "source": [
        ""
      ],
      "metadata": {
        "id": "HDPRUWdOjSPr"
      },
      "execution_count": null,
      "outputs": []
    }
  ]
}