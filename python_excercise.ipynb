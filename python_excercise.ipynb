{
  "cells": [
    {
      "cell_type": "markdown",
      "metadata": {
        "id": "view-in-github",
        "colab_type": "text"
      },
      "source": [
        "<a href=\"https://colab.research.google.com/github/Praneeth7890/python-new/blob/module-01/python_excercise.ipynb\" target=\"_parent\"><img src=\"https://colab.research.google.com/assets/colab-badge.svg\" alt=\"Open In Colab\"/></a>"
      ]
    },
    {
      "cell_type": "markdown",
      "id": "a89e07cb",
      "metadata": {
        "id": "a89e07cb"
      },
      "source": [
        "# average of two numbers"
      ]
    },
    {
      "cell_type": "code",
      "execution_count": null,
      "id": "0cf3c99e",
      "metadata": {
        "id": "0cf3c99e",
        "outputId": "5324e1b9-4998-4517-d866-092baf6593c2"
      },
      "outputs": [
        {
          "name": "stdout",
          "output_type": "stream",
          "text": [
            "41.666666666666664\n"
          ]
        }
      ],
      "source": [
        "a=29\n",
        "b=58\n",
        "c=38\n",
        "average = (a+b+c)/3\n",
        "print(average)"
      ]
    },
    {
      "cell_type": "markdown",
      "id": "29966cd3",
      "metadata": {
        "id": "29966cd3"
      },
      "source": [
        "# multiplication of three numbers "
      ]
    },
    {
      "cell_type": "code",
      "execution_count": null,
      "id": "3662520b",
      "metadata": {
        "id": "3662520b",
        "outputId": "ccc522bc-e38d-4fb9-f133-fb503ac7eadb"
      },
      "outputs": [
        {
          "name": "stdout",
          "output_type": "stream",
          "text": [
            "25530\n"
          ]
        }
      ],
      "source": [
        "a=15\n",
        "b=46\n",
        "c=37\n",
        "mul=a*b*c\n",
        "print(mul)"
      ]
    },
    {
      "cell_type": "markdown",
      "id": "acd9c2ad",
      "metadata": {
        "id": "acd9c2ad"
      },
      "source": [
        "# dynamic addition of 2 numbers"
      ]
    },
    {
      "cell_type": "code",
      "execution_count": null,
      "id": "51dcd3c7",
      "metadata": {
        "id": "51dcd3c7",
        "outputId": "598a0ff7-d21d-46bc-9727-6aceb2c2f1d6"
      },
      "outputs": [
        {
          "name": "stdout",
          "output_type": "stream",
          "text": [
            "enter a number47\n",
            "enter a number32\n",
            "79\n",
            "<class 'int'>\n"
          ]
        }
      ],
      "source": [
        "a=int(input(\"enter a number\"))\n",
        "b=int(input(\"enter a number\"))\n",
        "addition=(a+b)\n",
        "print(addition)\n",
        "print(type(addition))\n",
        "\n",
        "\n"
      ]
    },
    {
      "cell_type": "markdown",
      "id": "9f7b2ab7",
      "metadata": {
        "id": "9f7b2ab7"
      },
      "source": [
        "# dynamic of 3 numbers"
      ]
    },
    {
      "cell_type": "code",
      "execution_count": null,
      "id": "59014f98",
      "metadata": {
        "id": "59014f98",
        "outputId": "a515b5b3-b70a-4f77-eeab-c4c46594e110"
      },
      "outputs": [
        {
          "name": "stdout",
          "output_type": "stream",
          "text": [
            "enter a number20\n",
            "enter a number37\n",
            "enter a number28\n",
            "20720\n",
            "<class 'int'>\n"
          ]
        }
      ],
      "source": [
        "a=int(input(\"enter a number\"))\n",
        "b=int(input(\"enter a number\"))\n",
        "c=int(input(\"enter a number\"))\n",
        "multi=(a*b*c)\n",
        "print(multi)\n",
        "print(type(multi))"
      ]
    },
    {
      "cell_type": "markdown",
      "id": "035da97b",
      "metadata": {
        "id": "035da97b"
      },
      "source": [
        "# type conversions"
      ]
    },
    {
      "cell_type": "markdown",
      "id": "3b199b5f",
      "metadata": {
        "id": "3b199b5f"
      },
      "source": [
        "\n",
        "## 1.int to float\n"
      ]
    },
    {
      "cell_type": "code",
      "execution_count": null,
      "id": "cb2651e0",
      "metadata": {
        "id": "cb2651e0",
        "outputId": "6c34fe32-4905-4693-d7b9-93a2bab57877"
      },
      "outputs": [
        {
          "name": "stdout",
          "output_type": "stream",
          "text": [
            "<class 'int'>\n",
            "<class 'float'>\n",
            "10.0\n"
          ]
        }
      ],
      "source": [
        "a=10\n",
        "print(type(a))\n",
        "b=float(a)\n",
        "print(type(b))\n",
        "print(b)"
      ]
    },
    {
      "cell_type": "markdown",
      "id": "0016a1ae",
      "metadata": {
        "id": "0016a1ae"
      },
      "source": [
        "## 2.float to int"
      ]
    },
    {
      "cell_type": "code",
      "execution_count": null,
      "id": "2b511dcb",
      "metadata": {
        "id": "2b511dcb",
        "outputId": "7832e966-fd32-4ced-9520-4c5cada84d55"
      },
      "outputs": [
        {
          "name": "stdout",
          "output_type": "stream",
          "text": [
            "<class 'int'>\n",
            "<class 'int'>\n",
            "10\n"
          ]
        }
      ],
      "source": [
        "a=10\n",
        "print(type(a))\n",
        "b=int(a)\n",
        "print(type(b))\n",
        "print(b)"
      ]
    },
    {
      "cell_type": "markdown",
      "id": "baa4586a",
      "metadata": {
        "id": "baa4586a"
      },
      "source": [
        "## 3.int to string"
      ]
    },
    {
      "cell_type": "code",
      "execution_count": null,
      "id": "1ccb8269",
      "metadata": {
        "id": "1ccb8269",
        "outputId": "f3826180-0f24-4bf9-a913-5a7445ce837e"
      },
      "outputs": [
        {
          "name": "stdout",
          "output_type": "stream",
          "text": [
            "<class 'int'>\n",
            "<class 'str'>\n",
            "10\n"
          ]
        }
      ],
      "source": [
        "a=10\n",
        "print(type(a))\n",
        "b=str(a)\n",
        "print(type(b))\n",
        "print(b)"
      ]
    },
    {
      "cell_type": "markdown",
      "id": "1c330160",
      "metadata": {
        "id": "1c330160"
      },
      "source": [
        "## 4.float to string"
      ]
    },
    {
      "cell_type": "code",
      "execution_count": null,
      "id": "bd01f371",
      "metadata": {
        "id": "bd01f371",
        "outputId": "e4814798-3acb-4372-f3df-772a84ba399c"
      },
      "outputs": [
        {
          "name": "stdout",
          "output_type": "stream",
          "text": [
            "<class 'int'>\n",
            "<class 'str'>\n",
            "10\n"
          ]
        }
      ],
      "source": [
        "a=10\n",
        "print(type(a))\n",
        "b=str(a)\n",
        "print(type(b))\n",
        "print(b)"
      ]
    },
    {
      "cell_type": "markdown",
      "id": "d42adf47",
      "metadata": {
        "id": "d42adf47"
      },
      "source": [
        "## 5.string to int"
      ]
    },
    {
      "cell_type": "code",
      "execution_count": null,
      "id": "773d5a31",
      "metadata": {
        "id": "773d5a31",
        "outputId": "e364d3a0-302c-4fc3-fcf0-b43f03bd9618",
        "colab": {
          "base_uri": "https://localhost:8080/"
        }
      },
      "outputs": [
        {
          "output_type": "stream",
          "name": "stdout",
          "text": [
            "<class 'int'>\n",
            "<class 'int'>\n",
            "10\n"
          ]
        }
      ],
      "source": [
        "a=10\n",
        "print(type(a))\n",
        "b=int(a)\n",
        "print(type(b))\n",
        "print(b)"
      ]
    },
    {
      "cell_type": "markdown",
      "id": "7f5e69b6",
      "metadata": {
        "id": "7f5e69b6"
      },
      "source": [
        "# Boolean"
      ]
    },
    {
      "cell_type": "code",
      "execution_count": null,
      "id": "587c6eee",
      "metadata": {
        "id": "587c6eee",
        "outputId": "e14c1a8f-2945-4091-9696-4b56cd166d99"
      },
      "outputs": [
        {
          "name": "stdout",
          "output_type": "stream",
          "text": [
            "True\n"
          ]
        }
      ],
      "source": [
        "a=34\n",
        "b=45\n",
        "c=a<b\n",
        "print(bool(c))"
      ]
    },
    {
      "cell_type": "markdown",
      "id": "c41779f1",
      "metadata": {
        "id": "c41779f1"
      },
      "source": [
        "## Boolean to int"
      ]
    },
    {
      "cell_type": "code",
      "execution_count": null,
      "id": "1595476c",
      "metadata": {
        "id": "1595476c",
        "outputId": "e8b27f0d-5061-4141-f832-a0f23f615734"
      },
      "outputs": [
        {
          "name": "stdout",
          "output_type": "stream",
          "text": [
            "<class 'int'>\n",
            "<class 'bool'>\n",
            "True\n"
          ]
        }
      ],
      "source": [
        "a=10\n",
        "print(type(a))\n",
        "b=bool(a)\n",
        "print(type(b))\n",
        "print(b)"
      ]
    },
    {
      "cell_type": "markdown",
      "id": "b8a9f905",
      "metadata": {
        "id": "b8a9f905"
      },
      "source": [
        "# boolean to string"
      ]
    },
    {
      "cell_type": "code",
      "execution_count": null,
      "id": "fe7f4d81",
      "metadata": {
        "id": "fe7f4d81",
        "outputId": "7ded9fb2-8609-4ce1-a0b6-33c4b6c5197c"
      },
      "outputs": [
        {
          "name": "stdout",
          "output_type": "stream",
          "text": [
            "<class 'int'>\n",
            "<class 'str'>\n"
          ]
        }
      ],
      "source": [
        "a=10\n",
        "print(type(a))\n",
        "b=str(a)\n",
        "print(type(b))"
      ]
    },
    {
      "cell_type": "markdown",
      "id": "e4ee9c0b",
      "metadata": {
        "id": "e4ee9c0b"
      },
      "source": [
        "# complex"
      ]
    },
    {
      "cell_type": "code",
      "execution_count": null,
      "id": "2505bcc9",
      "metadata": {
        "id": "2505bcc9",
        "outputId": "be255227-cebf-4ce6-c10b-34cfdf40aa47"
      },
      "outputs": [
        {
          "name": "stdout",
          "output_type": "stream",
          "text": [
            "<class 'complex'>\n",
            "<class 'str'>\n"
          ]
        }
      ],
      "source": [
        "a=5+2j\n",
        "print(type(a))\n",
        "c=str(a)\n",
        "print (type(c))"
      ]
    },
    {
      "cell_type": "markdown",
      "id": "e60a77c0",
      "metadata": {
        "id": "e60a77c0"
      },
      "source": [
        ""
      ]
    }
  ],
  "metadata": {
    "kernelspec": {
      "display_name": "Python 3 (ipykernel)",
      "language": "python",
      "name": "python3"
    },
    "language_info": {
      "codemirror_mode": {
        "name": "ipython",
        "version": 3
      },
      "file_extension": ".py",
      "mimetype": "text/x-python",
      "name": "python",
      "nbconvert_exporter": "python",
      "pygments_lexer": "ipython3",
      "version": "3.9.7"
    },
    "colab": {
      "name": "python excercise.ipynb",
      "provenance": [],
      "include_colab_link": true
    }
  },
  "nbformat": 4,
  "nbformat_minor": 5
}