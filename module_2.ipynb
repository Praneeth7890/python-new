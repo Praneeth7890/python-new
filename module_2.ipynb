{
  "nbformat": 4,
  "nbformat_minor": 0,
  "metadata": {
    "colab": {
      "name": "module 2.ipynb",
      "provenance": [],
      "authorship_tag": "ABX9TyM6vSHS0zusf3LLpS6QhJF+",
      "include_colab_link": true
    },
    "kernelspec": {
      "name": "python3",
      "display_name": "Python 3"
    },
    "language_info": {
      "name": "python"
    }
  },
  "cells": [
    {
      "cell_type": "markdown",
      "metadata": {
        "id": "view-in-github",
        "colab_type": "text"
      },
      "source": [
        "<a href=\"https://colab.research.google.com/github/Praneeth7890/python-new/blob/module-02/module_2.ipynb\" target=\"_parent\"><img src=\"https://colab.research.google.com/assets/colab-badge.svg\" alt=\"Open In Colab\"/></a>"
      ]
    },
    {
      "cell_type": "markdown",
      "source": [
        "1.Create a function which accepts two inputs from the user and compute nCr"
      ],
      "metadata": {
        "id": "kUC9eUCMpRcy"
      }
    },
    {
      "cell_type": "code",
      "source": [
        "def nCr(n, r):\n",
        " \n",
        "    return (fact(n) / (fact(r)\n",
        "                * fact(n - r)))\n",
        " \n",
        "def fact(n):\n",
        " \n",
        "    res = 1\n",
        "     \n",
        "    for i in range(2, n+1):\n",
        "        res = res * i\n",
        "         \n",
        "    return res\n",
        "n = 5\n",
        "r = 3\n",
        "print(int(nCr(n, r)))"
      ],
      "metadata": {
        "id": "GTeZvnIYpZEq",
        "colab": {
          "base_uri": "https://localhost:8080/"
        },
        "outputId": "fa13cb10-1a18-4c5d-d7c1-cc268f5daf6f"
      },
      "execution_count": null,
      "outputs": [
        {
          "output_type": "stream",
          "name": "stdout",
          "text": [
            "10\n"
          ]
        }
      ]
    },
    {
      "cell_type": "markdown",
      "source": [
        "2.x Program to print a specified list after removing the 0th, 4th and 5th elements.\n",
        "Sample List : ['Red', 'Green', 'White', 'Black', 'Pink', 'Yellow']\n",
        "Expected Output : ['Green', 'White', 'Black']"
      ],
      "metadata": {
        "id": "Han3MWVTsmz1"
      }
    },
    {
      "cell_type": "code",
      "source": [
        "x=[\"red\",\"green\",\"white\",\"black\",\"pink\",\"yellow\"]\n",
        "x.pop(0)\n",
        "x.pop(3)\n",
        "x.pop(3)\n",
        "print(x)"
      ],
      "metadata": {
        "colab": {
          "base_uri": "https://localhost:8080/"
        },
        "id": "MHOIpt5AsoR7",
        "outputId": "410e0e61-af51-445b-82ba-77f2be7710ef"
      },
      "execution_count": null,
      "outputs": [
        {
          "output_type": "stream",
          "name": "stdout",
          "text": [
            "['green', 'white', 'black']\n"
          ]
        }
      ]
    },
    {
      "cell_type": "markdown",
      "source": [
        "3.Program to get the difference between the two lists"
      ],
      "metadata": {
        "id": "odTDPHnTw7G-"
      }
    },
    {
      "cell_type": "code",
      "source": [
        "x=[\"rrr\",\"radheshyam\",\"beast\",\"kgf\"]\n",
        "y=[\"bahubali\",\"sahoo\",\"akhanda\",\"beast\"]\n",
        "difxandy=list(set(x)-set(y))\n",
        "print(difxandy)\n"
      ],
      "metadata": {
        "id": "k8n7uYRkth6U",
        "colab": {
          "base_uri": "https://localhost:8080/"
        },
        "outputId": "f66f8861-618d-4a61-e3f1-4e6bab510dc4"
      },
      "execution_count": null,
      "outputs": [
        {
          "output_type": "stream",
          "name": "stdout",
          "text": [
            "['radheshyam', 'kgf', 'rrr']\n"
          ]
        }
      ]
    },
    {
      "cell_type": "markdown",
      "source": [
        "4.Program to find the second smallest number and second largest number in a list"
      ],
      "metadata": {
        "id": "tC3F-WjXz7yd"
      }
    },
    {
      "cell_type": "code",
      "source": [
        "def find_len(x):\n",
        "    length = len(x)\n",
        "    x.sort()\n",
        "    print(x)\n",
        "    print(\"Second Smallest element is:\", x[1])\n",
        "    print(\"Second Largest element is:\", x[-2])\n",
        "x=[9,84,15,95,76,25,36,83,72,366]\n",
        "Largest = find_len(x)"
      ],
      "metadata": {
        "id": "5ipRTdPH0JOM",
        "colab": {
          "base_uri": "https://localhost:8080/"
        },
        "outputId": "8817bcb1-6f56-41e6-9933-6f7cc2f032be"
      },
      "execution_count": null,
      "outputs": [
        {
          "output_type": "stream",
          "name": "stdout",
          "text": [
            "[9, 15, 25, 36, 72, 76, 83, 84, 95, 366]\n",
            "Second Smallest element is: 15\n",
            "Second Largest element is: 95\n"
          ]
        }
      ]
    },
    {
      "cell_type": "markdown",
      "source": [
        "5.Given a list of numbers of list, write a Python program to create a list of tuples\n",
        "having first element as the number and second element as the square of the\n",
        "number"
      ],
      "metadata": {
        "id": "wfzmarCMOsDg"
      }
    },
    {
      "cell_type": "code",
      "source": [
        "x = [6,8,9,12,15,19]\n",
        "y = [(num, pow(num, 2)) for num in x]\n",
        "print(y)"
      ],
      "metadata": {
        "colab": {
          "base_uri": "https://localhost:8080/"
        },
        "id": "6zs9pOWTOpV_",
        "outputId": "bf07af81-9395-4a59-c152-36b7954dce43"
      },
      "execution_count": null,
      "outputs": [
        {
          "output_type": "stream",
          "name": "stdout",
          "text": [
            "[(6, 36), (8, 64), (9, 81), (12, 144), (15, 225), (19, 361)]\n"
          ]
        }
      ]
    },
    {
      "cell_type": "markdown",
      "source": [
        "6.Given list of tuples, remove all the tuples with length K.\n",
        "Input : test_list = [(4, 5), (4, ), (8, 6, 7), (1, ), (3, 4, 6, 7)], K = 2\n",
        "Output : [(4, ), (8, 6, 7), (1, ), (3, 4, 6, 7)]\n",
        "Explanation : (4, 5) of len = 2 is removed."
      ],
      "metadata": {
        "id": "1kzzCa6dPfhg"
      }
    },
    {
      "cell_type": "code",
      "source": [
        "test_list = [(4, 5), (4, ), (8, 6, 7), (1, ), (3, 4, 6, 7)]\n",
        "K = 2\n",
        "print(\"x : \" + str(test_list))\n",
        "res = [ele for ele in test_list if len(ele) != K]\n",
        "print(\"output : \" + str(res))"
      ],
      "metadata": {
        "colab": {
          "base_uri": "https://localhost:8080/",
          "height": 130
        },
        "id": "zddSt_OQPG7v",
        "outputId": "852852fd-90c6-495d-8259-9a740afe1d4f"
      },
      "execution_count": null,
      "outputs": [
        {
          "output_type": "error",
          "ename": "SyntaxError",
          "evalue": "ignored",
          "traceback": [
            "\u001b[0;36m  File \u001b[0;32m\"<ipython-input-7-44e28248280d>\"\u001b[0;36m, line \u001b[0;32m1\u001b[0m\n\u001b[0;31m    test_list = [(4, 5), (4, ), (8, 6, 7), (1, ), (3, 4, 6, 7)]\u001b[0m\n\u001b[0m             ^\u001b[0m\n\u001b[0;31mSyntaxError\u001b[0m\u001b[0;31m:\u001b[0m invalid character in identifier\n"
          ]
        }
      ]
    },
    {
      "cell_type": "markdown",
      "source": [
        "7. Program to generate and print a dictionary that contains a number (between 1\n",
        "and n) in the form (x, x*x).\n",
        "Sample Input: (n=5) :\n",
        "Expected Output : {1: 1, 2: 4, 3: 9, 4: 16, 5: 25}"
      ],
      "metadata": {
        "id": "6x0XqBBMRKWi"
      }
    },
    {
      "cell_type": "code",
      "source": [
        "n=int(input(\"Input a number \"))\n",
        "d = dict()\n",
        "\n",
        "for x in range(1,n+1):\n",
        "    d[x]=x*x\n",
        "\n",
        "print(d) "
      ],
      "metadata": {
        "colab": {
          "base_uri": "https://localhost:8080/"
        },
        "id": "CaAf1ZCxQ_Mv",
        "outputId": "54e86576-1335-474a-b0b2-39dcde097a2b"
      },
      "execution_count": null,
      "outputs": [
        {
          "output_type": "stream",
          "name": "stdout",
          "text": [
            "Input a number 5\n",
            "{1: 1, 2: 4, 3: 9, 4: 16, 5: 25}\n"
          ]
        }
      ]
    },
    {
      "cell_type": "markdown",
      "source": [
        "8. Program to remove a key from a dictionary"
      ],
      "metadata": {
        "id": "9aLVr4gFRg1K"
      }
    },
    {
      "cell_type": "code",
      "source": [
        "a={'apple':100,'banana':150,'grapes':200}\n",
        "print(a)\n",
        "if 'apple' in a:\n",
        "  del a['apple']\n",
        "print(a)"
      ],
      "metadata": {
        "colab": {
          "base_uri": "https://localhost:8080/"
        },
        "id": "c6KuDa0NRUBR",
        "outputId": "d6f25110-ab3d-4216-be63-d1725a38251e"
      },
      "execution_count": null,
      "outputs": [
        {
          "output_type": "stream",
          "name": "stdout",
          "text": [
            "{'apple': 100, 'banana': 150, 'grapes': 200}\n",
            "{'banana': 150, 'grapes': 200}\n"
          ]
        }
      ]
    },
    {
      "cell_type": "markdown",
      "source": [
        "9.Program to get the maximum and minimum value in a dictionary"
      ],
      "metadata": {
        "id": "PMbG2SGRTBoC"
      }
    },
    {
      "cell_type": "code",
      "source": [
        "dictionary = {\"apple\": 100, \"banana\": 150, \"grapes\": 200,\"cherry\": 250}\n",
        "min_key = min(dictionary, key=dictionary.get)\n",
        "max_key = max(dictionary, key=dictionary.get)\n",
        "\n",
        "print(dictionary.get(min_key))\n",
        "print(dictionary.get(max_key))"
      ],
      "metadata": {
        "colab": {
          "base_uri": "https://localhost:8080/"
        },
        "id": "vtzuZUMfS5SC",
        "outputId": "8e431e28-bf90-428d-c8b1-95dfc74ecc82"
      },
      "execution_count": null,
      "outputs": [
        {
          "output_type": "stream",
          "name": "stdout",
          "text": [
            "100\n",
            "250\n"
          ]
        }
      ]
    },
    {
      "cell_type": "markdown",
      "source": [
        "10. Program to perform operations on string using unicodes ,splitting of string,accessing\n",
        "elements of string using locations"
      ],
      "metadata": {
        "id": "btW4SH9VThI7"
      }
    },
    {
      "cell_type": "code",
      "source": [
        ""
      ],
      "metadata": {
        "id": "Lot7HfV8TkQQ"
      },
      "execution_count": null,
      "outputs": []
    }
  ]
}