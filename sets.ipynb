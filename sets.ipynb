{
  "nbformat": 4,
  "nbformat_minor": 0,
  "metadata": {
    "colab": {
      "name": "sets.ipynb",
      "provenance": [],
      "collapsed_sections": [],
      "authorship_tag": "ABX9TyNjNUeK8o/nMedCgNSby09j",
      "include_colab_link": true
    },
    "kernelspec": {
      "name": "python3",
      "display_name": "Python 3"
    },
    "language_info": {
      "name": "python"
    }
  },
  "cells": [
    {
      "cell_type": "markdown",
      "metadata": {
        "id": "view-in-github",
        "colab_type": "text"
      },
      "source": [
        "<a href=\"https://colab.research.google.com/github/Praneeth7890/python-new/blob/module-02/sets.ipynb\" target=\"_parent\"><img src=\"https://colab.research.google.com/assets/colab-badge.svg\" alt=\"Open In Colab\"/></a>"
      ]
    },
    {
      "cell_type": "code",
      "execution_count": null,
      "metadata": {
        "colab": {
          "base_uri": "https://localhost:8080/"
        },
        "id": "xOnRrwVlByrx",
        "outputId": "7338eb97-7f23-4d54-84bb-26fb6c277b0f"
      },
      "outputs": [
        {
          "output_type": "stream",
          "name": "stdout",
          "text": [
            "{'rahul', 'yaswanth', 'praneeth'}\n"
          ]
        }
      ],
      "source": [
        "x={\"praneeth\",\"yaswanth\",\"rahul\"}\n",
        "print(x)"
      ]
    },
    {
      "cell_type": "code",
      "source": [
        "#duplicates not allowed\n",
        "x={\"praneeth\",\"manish\",\"bhanu\",\"praneeth\"}\n",
        "print(x)"
      ],
      "metadata": {
        "colab": {
          "base_uri": "https://localhost:8080/"
        },
        "id": "lymUq73cCBVj",
        "outputId": "b934c69e-70ee-47d3-92e8-509c13e7ccc0"
      },
      "execution_count": null,
      "outputs": [
        {
          "output_type": "stream",
          "name": "stdout",
          "text": [
            "{'manish', 'bhanu', 'praneeth'}\n"
          ]
        }
      ]
    },
    {
      "cell_type": "code",
      "source": [
        "#len of set\n",
        "x=(\"praneeth\",\"manish\",\"bhanu\",\"yaswanth\",\"rahul\")\n",
        "print(len(x))\n"
      ],
      "metadata": {
        "colab": {
          "base_uri": "https://localhost:8080/"
        },
        "id": "SY_TkTQDCNqy",
        "outputId": "d31b7618-5940-45ee-d3ce-0a701e529e7b"
      },
      "execution_count": null,
      "outputs": [
        {
          "output_type": "stream",
          "name": "stdout",
          "text": [
            "5\n"
          ]
        }
      ]
    },
    {
      "cell_type": "code",
      "source": [
        "#data types\n",
        "x={\"praneeth\"}\n",
        "y={\"yaswanth\"}\n",
        "z={\"manish\",\"manish\"}\n",
        "print(x)\n",
        "print(y)\n",
        "print(z)"
      ],
      "metadata": {
        "colab": {
          "base_uri": "https://localhost:8080/"
        },
        "id": "ry2K_g7MCcPi",
        "outputId": "bb5d2c82-40e2-4638-f33d-603d27bcfc19"
      },
      "execution_count": null,
      "outputs": [
        {
          "output_type": "stream",
          "name": "stdout",
          "text": [
            "{'praneeth'}\n",
            "{'yaswanth'}\n",
            "{'manish'}\n"
          ]
        }
      ]
    },
    {
      "cell_type": "code",
      "source": [
        "x={\"praneeth\",\"sai krishna\",\"yaswanth\"}\n",
        "for x in x:\n",
        "  print(x)"
      ],
      "metadata": {
        "id": "tGFPE1w7Ctyi",
        "colab": {
          "base_uri": "https://localhost:8080/"
        },
        "outputId": "fc700c05-c8fb-4a38-d0c4-fa96daa2e7cd"
      },
      "execution_count": null,
      "outputs": [
        {
          "output_type": "stream",
          "name": "stdout",
          "text": [
            "sai krishna\n",
            "yaswanth\n",
            "praneeth\n"
          ]
        }
      ]
    },
    {
      "cell_type": "code",
      "source": [
        "#praneeth is in set\n",
        "x={\"praneeth\",\"sai krishna\",\"yaswanth\"}\n",
        "print(\"praneeth\" in x)"
      ],
      "metadata": {
        "colab": {
          "base_uri": "https://localhost:8080/"
        },
        "id": "Wadq1nfIJp72",
        "outputId": "36cb77c3-3593-4fb6-a453-ee9c586b3e20"
      },
      "execution_count": null,
      "outputs": [
        {
          "output_type": "stream",
          "name": "stdout",
          "text": [
            "True\n"
          ]
        }
      ]
    },
    {
      "cell_type": "code",
      "source": [
        "#adding an item\n",
        "x={\"praneeth\",\"sai krishna\",\"yaswanth\"}\n",
        "x.add(\"seshu\")\n",
        "print(x)"
      ],
      "metadata": {
        "colab": {
          "base_uri": "https://localhost:8080/"
        },
        "id": "jISg9DZHJ7yl",
        "outputId": "a9b65fe5-9f60-478e-88e0-ba22bb0b00d7"
      },
      "execution_count": null,
      "outputs": [
        {
          "output_type": "stream",
          "name": "stdout",
          "text": [
            "{'seshu', 'sai krishna', 'yaswanth', 'praneeth'}\n"
          ]
        }
      ]
    },
    {
      "cell_type": "code",
      "source": [
        "#adding a set to another set\n",
        "x={\"praneeth\",\"sai krishna\",\"yaswanth\"}\n",
        "y={\"manish\",\"rahul\",\"bhanu\"}\n",
        "x.update(y)\n",
        "print(x)"
      ],
      "metadata": {
        "colab": {
          "base_uri": "https://localhost:8080/"
        },
        "id": "9XmcRdD8Ka-G",
        "outputId": "4df8c024-4098-4d85-c123-af39a8b7ee74"
      },
      "execution_count": null,
      "outputs": [
        {
          "output_type": "stream",
          "name": "stdout",
          "text": [
            "{'bhanu', 'sai krishna', 'yaswanth', 'rahul', 'manish', 'praneeth'}\n"
          ]
        }
      ]
    },
    {
      "cell_type": "code",
      "source": [
        "#Add Any Iterable\n",
        "x={\"praneeth\",\"sai krishna\",\"yaswanth\"}\n",
        "y=[\"manish\",\"rahul\"]\n",
        "x.update(y)\n",
        "print(x)"
      ],
      "metadata": {
        "colab": {
          "base_uri": "https://localhost:8080/"
        },
        "id": "pF4uYsyXK5vV",
        "outputId": "6d16ac59-cb1f-497f-fc3a-b6f52e8af150"
      },
      "execution_count": null,
      "outputs": [
        {
          "output_type": "stream",
          "name": "stdout",
          "text": [
            "{'sai krishna', 'yaswanth', 'manish', 'rahul', 'praneeth'}\n"
          ]
        }
      ]
    },
    {
      "cell_type": "code",
      "source": [
        "#Remove Item\n",
        "x={\"praneeth\",\"sai krishna\",\"yaswanth\"}\n",
        "x.remove(\"yaswanth\")\n",
        "print(x)"
      ],
      "metadata": {
        "colab": {
          "base_uri": "https://localhost:8080/"
        },
        "id": "HI9XcWr1LQ1F",
        "outputId": "bb30738e-fd67-4398-8ce2-2d5a39e6f5bc"
      },
      "execution_count": null,
      "outputs": [
        {
          "output_type": "stream",
          "name": "stdout",
          "text": [
            "{'sai krishna', 'praneeth'}\n"
          ]
        }
      ]
    },
    {
      "cell_type": "code",
      "source": [
        "#remove using pop()\n",
        "x={\"praneeth\",\"sai krishna\",\"yaswanth\"}\n",
        "y=x.pop()\n",
        "print(y)\n",
        "print(x)"
      ],
      "metadata": {
        "colab": {
          "base_uri": "https://localhost:8080/"
        },
        "id": "ajPPobuILsbG",
        "outputId": "7ac04552-7af0-497e-bebf-c93782bcf748"
      },
      "execution_count": null,
      "outputs": [
        {
          "output_type": "stream",
          "name": "stdout",
          "text": [
            "sai krishna\n",
            "{'yaswanth', 'praneeth'}\n"
          ]
        }
      ]
    },
    {
      "cell_type": "code",
      "source": [
        "#clear the set\n",
        "x={\"praneeth\",\"sai krishna\",\"yaswanth\"}\n",
        "x.clear()\n",
        "print(x)"
      ],
      "metadata": {
        "colab": {
          "base_uri": "https://localhost:8080/"
        },
        "id": "NvBPlz27MhVl",
        "outputId": "2a175f36-e665-4f2a-c23a-babb439fbc07"
      },
      "execution_count": null,
      "outputs": [
        {
          "output_type": "stream",
          "name": "stdout",
          "text": [
            "set()\n"
          ]
        }
      ]
    },
    {
      "cell_type": "code",
      "source": [
        "#loop items\n",
        "x={\"praneeth\",\"sai krishna\",\"yaswanth\"}\n",
        "for x in x:\n",
        "  print(x)"
      ],
      "metadata": {
        "colab": {
          "base_uri": "https://localhost:8080/"
        },
        "id": "5MbVa9q4M4nF",
        "outputId": "38611d01-33b7-44a6-be98-4b9724b7b8b1"
      },
      "execution_count": null,
      "outputs": [
        {
          "output_type": "stream",
          "name": "stdout",
          "text": [
            "sai krishna\n",
            "yaswanth\n",
            "praneeth\n"
          ]
        }
      ]
    },
    {
      "cell_type": "code",
      "source": [
        "#join two sets\n",
        "x={\"praneeth\",\"sai krishna\",\"yaswanth\"}\n",
        "y={\"manish\",\"rahul\"}\n",
        "z=x.union(y)\n",
        "print(z)"
      ],
      "metadata": {
        "colab": {
          "base_uri": "https://localhost:8080/"
        },
        "id": "0yN0LLLMNO-s",
        "outputId": "8267a8fc-b09d-4920-c052-89229b6808f2"
      },
      "execution_count": null,
      "outputs": [
        {
          "output_type": "stream",
          "name": "stdout",
          "text": [
            "{'sai krishna', 'yaswanth', 'rahul', 'manish', 'praneeth'}\n"
          ]
        }
      ]
    },
    {
      "cell_type": "code",
      "source": [
        "#intersection_update()\n",
        "x={\"praneeth\",\"sai krishna\",\"yaswanth\"}\n",
        "y={\"rahu\",\"praneeth\",\"yaswanth\"}\n",
        "x.intersection_update(y)\n",
        "print(x)"
      ],
      "metadata": {
        "colab": {
          "base_uri": "https://localhost:8080/"
        },
        "id": "JT-WvDWnN5AV",
        "outputId": "44ad69ff-e0ca-4733-f996-e8616cb48f0c"
      },
      "execution_count": null,
      "outputs": [
        {
          "output_type": "stream",
          "name": "stdout",
          "text": [
            "{'yaswanth', 'praneeth'}\n"
          ]
        }
      ]
    },
    {
      "cell_type": "code",
      "source": [
        "#intersection() method\n",
        "x={\"praneeth\",\"sai krishna\",\"yaswanth\"}\n",
        "y={\"rahu\",\"praneeth\",\"yaswanth\"}\n",
        "z=x.intersection(y)\n",
        "print(z)"
      ],
      "metadata": {
        "colab": {
          "base_uri": "https://localhost:8080/"
        },
        "id": "tAlhO_dDO9wF",
        "outputId": "e6abd3eb-4806-4437-c8c6-b47e0827f69b"
      },
      "execution_count": null,
      "outputs": [
        {
          "output_type": "stream",
          "name": "stdout",
          "text": [
            "{'yaswanth', 'praneeth'}\n"
          ]
        }
      ]
    },
    {
      "cell_type": "code",
      "source": [
        "#symmetric_difference_update\n",
        "x={\"praneeth\",\"sai krishna\",\"yaswanth\"}\n",
        "y={\"rahul\",\"praneeth\",\"yaswanth\"}\n",
        "x.symmetric_difference_update(y)\n",
        "print(x)"
      ],
      "metadata": {
        "colab": {
          "base_uri": "https://localhost:8080/"
        },
        "id": "j9ChSJlZPQKE",
        "outputId": "6609a7a8-4586-4d72-866d-dda30ed1506c"
      },
      "execution_count": null,
      "outputs": [
        {
          "output_type": "stream",
          "name": "stdout",
          "text": [
            "{'rahul', 'sai krishna'}\n"
          ]
        }
      ]
    },
    {
      "cell_type": "code",
      "source": [
        "#symmetric_difference() method \n",
        "x={\"praneeth\",\"sai krishna\",\"yaswanth\"}\n",
        "y={\"rahul\",\"praneeth\",\"yaswanth\"}\n",
        "z=x.symmetric_difference(y)\n",
        "print(z)"
      ],
      "metadata": {
        "colab": {
          "base_uri": "https://localhost:8080/"
        },
        "id": "TcG4cNgfPlp9",
        "outputId": "8e2f0d24-03ae-4804-c6a0-9422a28db3ed"
      },
      "execution_count": null,
      "outputs": [
        {
          "output_type": "stream",
          "name": "stdout",
          "text": [
            "{'sai krishna', 'rahul'}\n"
          ]
        }
      ]
    },
    {
      "cell_type": "code",
      "source": [
        ""
      ],
      "metadata": {
        "id": "JPCFSULEP0W1"
      },
      "execution_count": null,
      "outputs": []
    }
  ]
}